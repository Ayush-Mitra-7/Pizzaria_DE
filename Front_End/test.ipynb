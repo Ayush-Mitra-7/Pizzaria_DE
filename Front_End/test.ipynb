{
 "cells": [
  {
   "cell_type": "code",
   "execution_count": 1,
   "metadata": {},
   "outputs": [],
   "source": [
    "import pandas as pd\n",
    "pizza_data = pd.read_csv(r'data\\Pizza_data_with_prices.csv')\n",
    "sides_data=pd.read_csv(r'data\\Sides_data.csv')"
   ]
  },
  {
   "cell_type": "code",
   "execution_count": 3,
   "metadata": {},
   "outputs": [
    {
     "data": {
      "text/plain": [
       "'PIZ13988'"
      ]
     },
     "execution_count": 3,
     "metadata": {},
     "output_type": "execute_result"
    }
   ],
   "source": [
    "list(pizza_data[pizza_data['NAME']=='Tandoori Chicken']['PIZZA_ID'])[0]"
   ]
  },
  {
   "cell_type": "code",
   "execution_count": 10,
   "metadata": {},
   "outputs": [],
   "source": [
    "coupon_data=pd.read_csv(r'data\\Coupon_data.csv')"
   ]
  },
  {
   "cell_type": "code",
   "execution_count": 23,
   "metadata": {},
   "outputs": [],
   "source": [
    "p=list(coupon_data[coupon_data['NAME']=='Summer Sale']['DISCOUNTED_PERCENTAGE'])[0]"
   ]
  },
  {
   "cell_type": "code",
   "execution_count": 24,
   "metadata": {},
   "outputs": [],
   "source": [
    "x=100"
   ]
  },
  {
   "cell_type": "code",
   "execution_count": 25,
   "metadata": {},
   "outputs": [],
   "source": [
    "dp=x*(p/100)"
   ]
  },
  {
   "cell_type": "code",
   "execution_count": 26,
   "metadata": {},
   "outputs": [],
   "source": [
    "if dp>list(coupon_data[coupon_data['NAME']=='Summer Sale']['MAXIMUM_AMOUNT'])[0]:\n",
    "    dp=list(coupon_data[coupon_data['NAME']=='Summer Sale']['MAXIMUM_AMOUNT'])[0]\n",
    "x=x-dp\n",
    "fp=(0.18*x)+x"
   ]
  },
  {
   "cell_type": "code",
   "execution_count": 27,
   "metadata": {},
   "outputs": [
    {
     "data": {
      "text/plain": [
       "112.1"
      ]
     },
     "execution_count": 27,
     "metadata": {},
     "output_type": "execute_result"
    }
   ],
   "source": [
    "fp"
   ]
  },
  {
   "cell_type": "code",
   "execution_count": 28,
   "metadata": {},
   "outputs": [
    {
     "name": "stdout",
     "output_type": "stream",
     "text": [
      "Date: 28-10-2023\n",
      "Time: 01:00:33\n"
     ]
    }
   ],
   "source": [
    "from datetime import datetime\n",
    "\n",
    "# Get the current date and time\n",
    "current_datetime = datetime.now()\n",
    "\n",
    "# Format the date and time as required\n",
    "formatted_date = current_datetime.strftime(\"Date: %d-%m-%Y\")\n",
    "formatted_time = current_datetime.strftime(\"Time: %H:%M:%S\")\n",
    "\n",
    "print(formatted_date)\n",
    "print(formatted_time)\n"
   ]
  },
  {
   "cell_type": "code",
   "execution_count": null,
   "metadata": {},
   "outputs": [],
   "source": [
    "# INSERT INTO Transaction_Order_Details \n",
    "# VALUES ('Your_Order_ID_Value', 'Your_Customer_ID_Value', Your_TOTAL_PRICE_Value, 'Your_Mode_of_Transaction_Value', 'Your_Transaction_ID_Value', 'Your_Coupon_ID_Value', Your_DISCOUNTED_AMOUNT_Value, Your_TAX_AMOUNT_Value, Your_FINAL_PRICE_Value, TO_DATE('Your_Transaction_Date_Value', 'DD-MM-YYYY'), TO_TIMESTAMP('Your_Transaction_Time_Value', 'DD-MM-YYYY HH24:MI:SS.FF'));\n"
   ]
  },
  {
   "cell_type": "code",
   "execution_count": 31,
   "metadata": {},
   "outputs": [
    {
     "name": "stdout",
     "output_type": "stream",
     "text": [
      "Collecting psycopg2\n",
      "  Downloading psycopg2-2.9.9-cp310-cp310-win_amd64.whl (1.2 MB)\n",
      "     ---------------------------------------- 1.2/1.2 MB 5.7 MB/s eta 0:00:00\n",
      "Installing collected packages: psycopg2\n",
      "Successfully installed psycopg2-2.9.9\n"
     ]
    }
   ],
   "source": [
    "!pip install psycopg2\n"
   ]
  },
  {
   "cell_type": "code",
   "execution_count": 40,
   "metadata": {},
   "outputs": [],
   "source": [
    "import psycopg2\n",
    "\n",
    "# Create a database connection\n",
    "conn = psycopg2.connect(\n",
    " host='localhost',\n",
    " database='pizza_data',\n",
    " user='postgres',\n",
    " password='ayush123',\n",
    " port=5432\n",
    ")\n",
    "cursor = conn.cursor()\n",
    "\n",
    "# Define the INSERT query\n",
    "insert_query = \"\"\"\n",
    "    INSERT INTO Transaction_Order_Details (ORDER_ID, CUSTOMER_ID, TOTAL_PRICE, MODE_OF_TRANSACTION, TRANSACTION_ID, COUPON_ID, DISCOUNTED_AMOUNT, TAX_AMOUNT, FINAL_PRICE, TRANSACTION_DATE, TRANSACTION_TIME)\n",
    "    VALUES (%s, %s, %s, %s, %s, %s, %s, %s, %s, TO_DATE(%s, 'DD-MM-YYYY'), TO_TIMESTAMP(%s, 'HH24:MI:SS'));\n",
    "\"\"\"\n",
    "\n",
    "# Define the values to insert\n",
    "values = (\n",
    "    'ODD_111',\n",
    "    'CUS60001',\n",
    "    10,\n",
    "    'UPI',\n",
    "    'TNSC_qwer',\n",
    "    'COU79199',\n",
    "    20,\n",
    "    30,\n",
    "    40,\n",
    "    '12-09-2023',\n",
    "    current_datetime.strftime(\"%H:%M:%S\") # In HH:MM:SS format\n",
    "    )\n",
    "\n",
    "# Execute the query with the values\n",
    "cursor.execute(insert_query, values)\n",
    "\n",
    "# Commit the changes to the database\n",
    "conn.commit()\n",
    "\n",
    "# Close the database connection\n",
    "conn.close()\n"
   ]
  },
  {
   "cell_type": "code",
   "execution_count": 36,
   "metadata": {},
   "outputs": [],
   "source": [
    "conn = psycopg2.connect(\n",
    " host='localhost',\n",
    " database='pizza_data',\n",
    " user='postgres',\n",
    " password='ayush123',\n",
    " port=5432\n",
    ")\n",
    "cursor = conn.cursor()\n",
    "insert_query = \"\"\"\n",
    "    INSERT INTO Customer_Details (CUSTOMER_ID, FIRST_NAME, MIDDLE_NAME, LAST_NAME, ADDRESS, PHONE_NUMBER, EMAIL_ID)\n",
    "    VALUES (%s, %s, %s, %s, %s, %s, %s);\n",
    "\"\"\"\n",
    "\n",
    "# Define the values to insert\n",
    "values = ('CUS60001', 'Priyanka', 'Goel', 'Sharma', '666 Elm Dr, Madhya Pradesh, Bhopal-462001', '+91 7654321749', 'priyanka.sharma@email.com')\n",
    "\n",
    "# Execute the query with the values\n",
    "cursor.execute(insert_query, values)\n",
    "\n",
    "# Commit the changes to the database\n",
    "conn.commit()\n",
    "\n",
    "# Close the database connection\n",
    "conn.close()"
   ]
  },
  {
   "cell_type": "code",
   "execution_count": 39,
   "metadata": {},
   "outputs": [],
   "source": [
    "conn = psycopg2.connect(\n",
    " host='localhost',\n",
    " database='pizza_data',\n",
    " user='postgres',\n",
    " password='ayush123',\n",
    " port=5432\n",
    ")\n",
    "cursor = conn.cursor()\n",
    "\n",
    "# Define the INSERT query\n",
    "insert_query = \"\"\"\n",
    "    INSERT INTO Coupon_Details (COUPON_ID, NAME, CODE, DISCOUNTED_PERCENTAGE, MAXIMUM_AMOUNT)\n",
    "    VALUES (%s, %s, %s, %s, %s);\n",
    "\"\"\"\n",
    "\n",
    "# Define the values to insert\n",
    "values = ('COU79199', 'Summer Sale', 'SS2023', 5, 500.0)\n",
    "\n",
    "# Execute the query with the values\n",
    "cursor.execute(insert_query, values)\n",
    "\n",
    "# Commit the changes to the database\n",
    "conn.commit()\n",
    "\n",
    "# Close the database connection\n",
    "conn.close()"
   ]
  },
  {
   "cell_type": "code",
   "execution_count": null,
   "metadata": {},
   "outputs": [],
   "source": []
  }
 ],
 "metadata": {
  "kernelspec": {
   "display_name": "Project_env",
   "language": "python",
   "name": "python3"
  },
  "language_info": {
   "codemirror_mode": {
    "name": "ipython",
    "version": 3
   },
   "file_extension": ".py",
   "mimetype": "text/x-python",
   "name": "python",
   "nbconvert_exporter": "python",
   "pygments_lexer": "ipython3",
   "version": "3.10.8"
  }
 },
 "nbformat": 4,
 "nbformat_minor": 2
}
